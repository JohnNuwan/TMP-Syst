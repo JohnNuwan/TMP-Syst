{
  "nbformat": 4,
  "nbformat_minor": 0,
  "metadata": {
    "colab": {
      "name": "# Générer un mot de passe aléatoire en Python - Guide pratique",
      "provenance": [],
      "collapsed_sections": [],
      "authorship_tag": "ABX9TyOGfrV/+cMQm6M/tsz0oPLG",
      "include_colab_link": true
    },
    "kernelspec": {
      "name": "python3",
      "display_name": "Python 3"
    }
  },
  "cells": [
    {
      "cell_type": "markdown",
      "metadata": {
        "id": "view-in-github",
        "colab_type": "text"
      },
      "source": [
        "<a href=\"https://colab.research.google.com/github/JohnNuwan/TMP-Syst/blob/main/_G%C3%A9n%C3%A9rer_un_mot_de_passe_al%C3%A9atoire_en_Python_Guide_pratique.ipynb\" target=\"_parent\"><img src=\"https://colab.research.google.com/assets/colab-badge.svg\" alt=\"Open In Colab\"/></a>"
      ]
    },
    {
      "cell_type": "markdown",
      "metadata": {
        "id": "1xhsWFPQfUnS"
      },
      "source": [
        "#Générer un mot de passe aléatoire en Python - Guide pratique\n",
        "\n",
        "\n",
        "Lorsque vous suivez un processus d'inscription, tout se passe bien jusqu'à ce que nous remplissions le mot de passe. Le choix d'un mot de passe a toujours traîné le flux d'inscription. Dans cet article, nous allons apprendre à créer un programme générateur de mots de passe en python.\n",
        "\n",
        "## Prérequis\n",
        "Tout ce qui est nécessaire pour suivre est une connaissance de base de python et d'un IDE (Integrated Development Environment).\n",
        "\n",
        "## Structure des dossiers\n",
        "J'ai le fichier app.py dans un dossier py-password et je vais travailler sur ce fichier dans cet article.\n",
        "\n",
        "Le mot de passe est souvent une combinaison de lettres (minuscules et majuscules), de chiffres et de ponctuation. Permet de créer des variables globales pour stocker respectivement les lettres (minuscules et majuscules), les chiffres et la ponctuation. Pour accomplir cette tâche, python dispose d'une bibliothèque de chaînes intégrée qui contient une collection de constantes de chaîne."
      ]
    },
    {
      "cell_type": "code",
      "metadata": {
        "id": "_lIID3YTftRb",
        "outputId": "b2d0e621-ad81-4453-def7-28ed676c9497",
        "colab": {
          "base_uri": "https://localhost:8080/"
        }
      },
      "source": [
        "import string\n",
        "import random\n",
        "\n",
        "LETTERS = string.ascii_letters\n",
        "NUMBERS = string.digits  \n",
        "PUNCTUATION = string.punctuation    \n",
        "\n",
        "print(\"Lettre      : \" ,LETTERS )\n",
        "print(\"Number      : \" ,NUMBERS )\n",
        "print(\"Punctuation : \" ,PUNCTUATION )"
      ],
      "execution_count": null,
      "outputs": [
        {
          "output_type": "stream",
          "text": [
            "Lettre      :  abcdefghijklmnopqrstuvwxyzABCDEFGHIJKLMNOPQRSTUVWXYZ\n",
            "Number      :  0123456789\n",
            "Punctuation :  !\"#$%&'()*+,-./:;<=>?@[\\]^_`{|}~\n"
          ],
          "name": "stdout"
        }
      ]
    },
    {
      "cell_type": "markdown",
      "metadata": {
        "id": "r0ekOHBegWrH"
      },
      "source": [
        "À partir du code ci-dessus, la bibliothèque de chaînes a été importée et nous avons accédé à ses propriétés ascii_letters, chiffres et ponctuation qui renvoient respectivement des caractères minuscules et majuscules, des nombres et des signes de ponctuation.\n",
        "\n",
        "---\n",
        "### REMARQUE:\n",
        "*La bibliothèque de chaînes intégrée de python a une propriété imprimable qui peut générer une séquence de caractères alphanumériques, mais pour les besoins de cette application, nous nous en tiendrons à l'approche actuelle consistant à les séparer.*\n",
        "\n",
        "---\n",
        "\n",
        "Nettoyez la base de code en supprimant toutes les instructions d'impression.\n",
        "\n",
        "Ce sera bien si nous pouvons spécifier la longueur d'un mot de passe, pour cela nous allons créer une fonction qui reçoit une longueur de mot de passe en tant qu'entrée d'un utilisateur.\n"
      ]
    },
    {
      "cell_type": "code",
      "metadata": {
        "id": "yrlMMLZUf2MZ"
      },
      "source": [
        "def get_password_length():\n",
        "    '''\n",
        "      Récupère la longueur d'un mot de passe\n",
        "      : renvoie le nombre <class 'int'>\n",
        "    '''\n",
        "    length = input(\"Combien de caractère voulez-vous votre mot de passe: \")\n",
        "    return int(length)"
      ],
      "execution_count": null,
      "outputs": []
    },
    {
      "cell_type": "markdown",
      "metadata": {
        "id": "tXYRT8WYhkgM"
      },
      "source": [
        "Le code ci-dessus utilise la fonction d'entrée intégrée de python pour récupérer une valeur et la convertit en numérique à l'aide de la fonction int intégrée de python.\n",
        "\n",
        "---\n",
        "### REMARQUE:\n",
        "Lorsque la fonction d'entrée intégrée de python est utilisée pour récupérer la valeur d'un utilisateur, la valeur est toujours une chaîne. C'est pourquoi il était nécessaire de convertir la valeur donnée en numérique à l'aide de la fonction int intégrée de python.\n",
        "\n",
        "\n",
        "---\n",
        "\n",
        "\n",
        "\n",
        "Pour générer des mots de passe aléatoires uniques, nous utiliserons la bibliothèque aléatoire intégrée de python. Voici une méthode qui génère un mot de passe aléatoire unique avec une longueur spécifiée."
      ]
    },
    {
      "cell_type": "code",
      "metadata": {
        "id": "UZE3Osk8heJ1"
      },
      "source": [
        "def password_generator(length=8):\n",
        "    '''\n",
        "    Génère un mot de passe aléatoire ayant la longueur spécifiée\n",
        "    : longueur -> longueur du mot de passe à générer.\n",
        "     La valeur par défaut est 8, si rien n'est spécifié.\n",
        "    :returns string <class 'str'>\n",
        "    '''\n",
        "    # créer des caractères alphanumériques à partir de constantes de chaîne\n",
        "    printable = f'{LETTERS}{NUMBERS}{PUNCTUATION}'\n",
        "\n",
        "    # convertir imprimable de chaîne en liste et mélanger\n",
        "    printable = list(printable)\n",
        "    random.shuffle(printable)\n",
        "\n",
        "    # générer un mot de passe aléatoire et le convertir en string\n",
        "    random_password = random.choices(printable, k=length)\n",
        "    random_password = ''.join(random_password)\n",
        "    return random_password"
      ],
      "execution_count": null,
      "outputs": []
    },
    {
      "cell_type": "markdown",
      "metadata": {
        "id": "l85k03HyjZl7"
      },
      "source": [
        "La fonction ci-dessus est définie avec une longueur de paramètre qui vaut par défaut 8 (la longueur minimale recommandée d'un mot de passe est 8). Donnons au code ci-dessus quelques explications:\n",
        "\n",
        "# créer des caractères alphanumériques à partir de constantes de chaîne\n",
        "Nous avons déjà déclaré des variables globales, qui contiennent des constantes de chaîne (chiffres, ponctuation, caractères (minuscules et majuscules) respectivement). Ces constantes sont concaténées à l'aide de la chaîne F de python et enregistrées dans une variable nommée imprimable.\n",
        "\n",
        "# convertir imprimable de chaîne en liste et mélanger\n",
        "la variable imprimable qui contient une valeur alphanumérique (chaîne: séquence de caractères) est convertie en liste (c'est obligatoire). La lecture aléatoire de la liste rend difficile la génération du même mot de passe deux fois. random.shuffle () prend une liste comme argument et change la position de l'élément de la liste de manière aléatoire.\n",
        "\n",
        "---\n",
        "#### Erreur qui peut survenir\n",
        "*Si printable est passé à random.shuffle () sans le convertir d'abord en liste, il en résultera en une TypeError\n",
        "TypeError: l'objet 'str' ne prend pas en charge l'affectation d'élément*\n",
        "\n",
        "---\n",
        "\n",
        "# générer un mot de passe aléatoire et le convertir en chaîne\n",
        "random.choices prend quelques arguments mais nous sommes plus préoccupés par le premier et le dernier argument. Le premier argument (population) accepte un itérable et le dernier argument (k) spécifie le nombre d'éléments qui seront choisis au hasard dans l'itérable donné. Lors de l'appel de random.choices, nous avons passé printable comme premier argument et length (un paramètre de notre fonction) comme dernier argument.\n",
        "\n",
        "join a passé un résultat de random.choices (qui renvoie une liste comme résultat) et a été appelée sur une chaîne vide ('') qui agit comme un séparateur. Cela aide simplement à joindre (comme son nom l'indique) tous les éléments de liste renvoyés par random.choices sous la forme d'une seule chaîne sans espaces.\n",
        "\n",
        "Très bien, maintenant que nous avons parcouru toutes les instructions de code, testons l'application."
      ]
    },
    {
      "cell_type": "markdown",
      "metadata": {
        "id": "FepIo5R_kI0Y"
      },
      "source": [
        "code complet"
      ]
    },
    {
      "cell_type": "code",
      "metadata": {
        "id": "2IGyURn_jX7-",
        "outputId": "d287808d-9c84-4ca2-a128-2a066ff17933",
        "colab": {
          "base_uri": "https://localhost:8080/"
        }
      },
      "source": [
        "import string\n",
        "import random\n",
        "\n",
        "\n",
        "LETTERS = string.ascii_letters\n",
        "NUMBERS = string.digits  \n",
        "PUNCTUATION = string.punctuation    \n",
        "\n",
        "\n",
        "def get_password_length():\n",
        "\t'''\n",
        "      Récupère la longueur d'un mot de passe\n",
        "      : renvoie le nombre <class 'int'>\n",
        "\t'''\n",
        "\tlength = input(\"Combien de caractère voulez-vous votre mot de passe: \")\n",
        "\treturn int(length)\n",
        "\n",
        "\n",
        "def password_generator(cbl, length=8):\n",
        "\t'''\n",
        "Génère un mot de passe aléatoire ayant la longueur spécifiée\n",
        ": longueur -> longueur du mot de passe à générer. La valeur par défaut est 8\n",
        "si rien n'est spécifié\n",
        ": cbl-> une liste de valeurs booléennes représentant un choix utilisateur pour\n",
        "        constante de chaîne à utiliser pour générer le mot de passe.\n",
        "        0 élément ---> chiffres\n",
        "             True pour ajouter des chiffres à la constante False sinon\n",
        "        1 article ---> lettres\n",
        "             True pour ajouter des lettres à la constante False sinon\n",
        "        2 élément ---> ponctuation\n",
        "             True pour ajouter de la ponctuation à la constante False sinon\n",
        "\t:returns string <class 'str'>\n",
        "\t'''\n",
        "\t# créer des caractères alphanumériques à partir de constantes de chaîne\n",
        "\tprintable = fetch_string_constant(cbl)\n",
        "\n",
        "\t#  convertir imprimable de chaîne en liste et mélanger\n",
        "\tprintable = list(printable)\n",
        "\trandom.shuffle(printable)\n",
        "\n",
        "\t# générer un mot de passe aléatoire\n",
        "\trandom_password = random.choices(printable, k=length)\n",
        "\n",
        "\t# générer un mot de passe aléatoire et le convertir en string\n",
        "\trandom_password = ''.join(random_password)\n",
        "\treturn random_password\n",
        "\n",
        "\n",
        "def password_combination_choice():\n",
        "\t'''\n",
        "  Inviter un utilisateur à choisir une combinaison de caractères de mot de passe\n",
        "  peut être soit des chiffres, des lettres, de la ponctuation ou une combinaison de\n",
        "  l'un d'eux.\n",
        "\t:returns list <class 'list'> de boolean [True, True, False]\n",
        "\t\t0 item ---> digits\n",
        "\t\t1 item ---> letters\n",
        "\t\t2 item ---> punctuation\n",
        "\t'''\n",
        "\n",
        "\t# retrieve a user's password character combination choice\n",
        "\twant_digits = input(\"Vous voulez des chiffres ? (True or False) : \")\n",
        "\twant_letters = input(\"Des lettres ? (True or False): \")\n",
        "\twant_puncts = input(\"Vous voulez de la ponctuation ? (True or False): \")\n",
        "\n",
        "\t# convertir ces choix de chaîne en son type booléen correct\n",
        "\ttry:\n",
        "\t\twant_digits = eval(want_digits.title())\n",
        "\t\twant_puncts = eval(want_puncts.title())\n",
        "\t\twant_letters = eval(want_letters.title())\n",
        "\t\treturn [want_digits, want_letters, want_puncts]\n",
        "\n",
        "\texcept NameError as e:\n",
        "\t\tprint(\"Valeur invalide. Utilisez True ou False\")\n",
        "\t\tprint(\"L'invalidité renvoie une valeur par défaut, essayez à nouveau de régénérer\")\n",
        "\n",
        "\treturn [True, True, True]\n",
        "\n",
        "\n",
        "\n",
        "def fetch_string_constant(choice_list):\n",
        "\t'''\n",
        "  Renvoie une constante de chaîne basée sur la liste de choix des utilisateurs.\n",
        "  la constante de chaîne peut être soit des chiffres, des lettres, de la ponctuation ou\n",
        "  combinaison d'entre eux.\n",
        "\t'''\n",
        "\tstring_constant = ''\n",
        "\n",
        "\tstring_constant += NUMBERS if choice_list[0] else ''\n",
        "\tstring_constant += LETTERS if choice_list[1] else ''\n",
        "\tstring_constant += PUNCTUATION if choice_list[2] else ''\n",
        "\t\n",
        "\treturn string_constant\n",
        "\n",
        "\n",
        "\n",
        "if __name__ == '__main__':\n",
        "\tlength = get_password_length()\n",
        "\tchoice_list = password_combination_choice()\n",
        "\tpassword = password_generator(choice_list, length)\n",
        "\n",
        "\tprint(password)"
      ],
      "execution_count": null,
      "outputs": [
        {
          "output_type": "stream",
          "text": [
            "Combien de caractère voulez-vous votre mot de passe: 126\n",
            "Vous voulez des chiffres ? (True or False) : True\n",
            "Des lettres ? (True or False): True\n",
            "Vous voulez de la ponctuation ? (True or False): True\n",
            "6nL>TLj`H(+?3em\"w!t{wVjVdlV94HTA-o/KzoNE#Uq}hZROq~Wve(Z0Mg)]D1O^n=@_oo@s71f,]UB]mRo&}{/R:1wF8_V/=O#s+w&IwLZH6[+;~c#Y>BXVv$!{(E\n"
          ],
          "name": "stdout"
        }
      ]
    },
    {
      "cell_type": "markdown",
      "metadata": {
        "id": "gneCSenDmZ73"
      },
      "source": [
        "---\n",
        "\n",
        "###Veuillez noter: \n",
        "*votre résultat obtenu sera différent du mien car le mot de passe est généré aléatoirement.*\n",
        "\n",
        "---\n",
        "\n",
        "Si vous êtes arrivé jusqu'ici, vous avez non seulement une application de générateur de mot de passe qui fonctionne, mais vous vous êtes également familiarisé avec la chaîne intégrée et la bibliothèque aléatoire de python."
      ]
    },
    {
      "cell_type": "code",
      "metadata": {
        "id": "OmXX8lrhmiMr"
      },
      "source": [
        ""
      ],
      "execution_count": null,
      "outputs": []
    }
  ]
}